{
 "cells": [
  {
   "cell_type": "code",
   "execution_count": null,
   "id": "74640c89",
   "metadata": {},
   "outputs": [],
   "source": [
    "import asyncio\n",
    "import pickle\n",
    "from typing import Literal\n",
    "import math\n",
    "\n",
    "import numpy as np\n",
    "from IPython.display import display\n",
    "from PIL import Image\n",
    "import meadowrun\n",
    "import matplotlib.pyplot as plt"
   ]
  },
  {
   "cell_type": "markdown",
   "id": "4aca5ecf",
   "metadata": {},
   "source": [
    "# Overview\n",
    "To run this notebook, follow the [accompanying blog post](https://medium.com/p/e8aef6f974c1). Or, following the quick start below:\n",
    "\n",
    "```shell\n",
    "# Clone this repo and create the local environment\n",
    "git clone https://github.com/meadowdata/meadowrun-dallemini-demo\n",
    "cd meadowrun-dallemini-demo\n",
    "python3 -m venv venv\n",
    "source venv/bin/activate\n",
    "pip install -r local_requirements.txt\n",
    "\n",
    "# Install meadowrun in your AWS account\n",
    "meadowrun-manage-ec2 install --allow-authorize-ips\n",
    "# Create an S3 bucket to cache pretrained models\n",
    "aws s3 mb s3://meadowrun-dallemini\n",
    "# Grant permission to Meadowrun to access this bucket\n",
    "meadowrun-manage-ec2 grant-permission-to-s3-bucket meadowrun-dallemini\n",
    "\n",
    "# Run a jupyter server\n",
    "jupyter notebook\n",
    "```\n",
    "\n",
    "You'll also need to make sure your AWS account has non-zero quotas for at least some GPU instance types:\n",
    "- L-3819A6DF: [All G and VT Spot Instance Requests](https://console.aws.amazon.com/servicequotas/home/services/ec2/quotas/L-3819A6DF)\n",
    "- L-7212CCBC: [All P Spot Instance Requests](https://console.aws.amazon.com/servicequotas/home/services/ec2/quotas/L-7212CCBC)\n",
    "- L-DB2E81BA: [Running On-Demand G and VT instances](https://console.aws.amazon.com/servicequotas/home/services/ec2/quotas/L-DB2E81BA)\n",
    "- L-417A185B: [Running On-Demand P instances](https://console.aws.amazon.com/servicequotas/home/services/ec2/quotas/L-417A185B)"
   ]
  },
  {
   "cell_type": "markdown",
   "id": "33607028",
   "metadata": {},
   "source": [
    "## Parameters for caching:"
   ]
  },
  {
   "cell_type": "code",
   "execution_count": null,
   "id": "07d6fdd3",
   "metadata": {},
   "outputs": [],
   "source": [
    "# You must set this to match your S3 bucket that you create (see Overview)\n",
    "S3_BUCKET_NAME = \"meadowrun-dallemini\"\n",
    "S3_BUCKET_REGION = \"us-east-2\""
   ]
  },
  {
   "cell_type": "code",
   "execution_count": null,
   "id": "f0eee7dd",
   "metadata": {},
   "outputs": [],
   "source": [
    "# A function for showing a grid of images\n",
    "def show_images(images):\n",
    "    width = 20\n",
    "    columns = 3\n",
    "    n = len(images)\n",
    "    rows = math.ceil(len(images) / columns)\n",
    "    height = (width / columns) * rows\n",
    "    f = plt.figure(figsize=(width, height))\n",
    "    for i, image in enumerate(images):\n",
    "        ax = f.add_subplot(rows, columns, i + 1)\n",
    "        ax.set_title(str(i))\n",
    "        ax.axis(\"off\")\n",
    "        plt.imshow(image)\n",
    "    \n",
    "    f.tight_layout()"
   ]
  },
  {
   "cell_type": "code",
   "execution_count": null,
   "id": "9320e322",
   "metadata": {},
   "outputs": [],
   "source": [
    "# We have two deployments, one for caching and one for running models\n",
    "async def caching_deployment():\n",
    "    return await meadowrun.Deployment.mirror_local(\n",
    "        interpreter=meadowrun.PipRequirementsFile(\"caching_requirements.txt\", \"3.9\"))\n",
    "\n",
    "\n",
    "async def model_deployment():\n",
    "    return await meadowrun.Deployment.mirror_local(\n",
    "        interpreter=meadowrun.PipRequirementsFile(\"model_requirements.txt\", \"3.8\", [\"libgl1\", \"libglib2.0-0\"]))"
   ]
  },
  {
   "cell_type": "code",
   "execution_count": null,
   "id": "e49741bd",
   "metadata": {
    "scrolled": true
   },
   "outputs": [],
   "source": [
    "# Cache the DALL·E Mini pre-trained model\n",
    "await meadowrun.run_function(\n",
    "    \"linux.cache_in_s3.download_pretrained_dallemini_cache_in_s3\",\n",
    "    meadowrun.AllocCloudInstance(\"EC2\"),\n",
    "    meadowrun.Resources(1, 2, 80),\n",
    "    await caching_deployment(),\n",
    "    [\"mega_full\", S3_BUCKET_NAME, S3_BUCKET_REGION]\n",
    ")"
   ]
  },
  {
   "cell_type": "code",
   "execution_count": null,
   "id": "99e9f4c8",
   "metadata": {},
   "outputs": [],
   "source": [
    "# Cache the glid-3-xl pre-trained model\n",
    "await meadowrun.run_function(\n",
    "    \"linux.cache_in_s3.download_pretrained_gild3xl_cache_in_s3\",\n",
    "    meadowrun.AllocCloudInstance(\"EC2\"),\n",
    "    meadowrun.Resources(1, 2, 80),\n",
    "    await caching_deployment(),\n",
    "    [S3_BUCKET_NAME, S3_BUCKET_REGION]\n",
    ")"
   ]
  },
  {
   "cell_type": "code",
   "execution_count": null,
   "id": "8202d405",
   "metadata": {},
   "outputs": [],
   "source": [
    "# Cache the SwinIR pre-trained model\n",
    "await meadowrun.run_function(\n",
    "    \"linux.cache_in_s3.download_pretrained_swinir_cache_in_s3\",\n",
    "    meadowrun.AllocCloudInstance(\"EC2\"),\n",
    "    meadowrun.Resources(1, 2, 80),\n",
    "    await caching_deployment(),\n",
    "    [S3_BUCKET_NAME, S3_BUCKET_REGION]\n",
    ")"
   ]
  },
  {
   "cell_type": "markdown",
   "id": "24ee0462",
   "metadata": {},
   "source": [
    "## Parameters for DALL·E Mini"
   ]
  },
  {
   "cell_type": "code",
   "execution_count": null,
   "id": "289d6769",
   "metadata": {},
   "outputs": [],
   "source": [
    "prompt = \"batman praying in the garden of gethsemane\"\n",
    "num_images = 8\n",
    "# Options are mini, mega, mega_full\n",
    "model_version = \"mega_full\""
   ]
  },
  {
   "cell_type": "code",
   "execution_count": null,
   "id": "bdb46b27",
   "metadata": {},
   "outputs": [],
   "source": [
    "gpu_memory_required = {\"mini\": 4, \"mega\": 8, \"mega_full\": 12}[model_version]\n",
    "main_memory_required = {\"mini\": 16, \"mega\": 20, \"mega_full\": 24}[model_version]\n",
    "model_ec2_instance_requirements = meadowrun.Resources(\n",
    "    1, main_memory_required, 80, gpu_memory=gpu_memory_required, flags=\"nvidia\"\n",
    ")"
   ]
  },
  {
   "cell_type": "code",
   "execution_count": null,
   "id": "cd51f35a",
   "metadata": {},
   "outputs": [],
   "source": [
    "saved = []"
   ]
  },
  {
   "cell_type": "code",
   "execution_count": null,
   "id": "e2d157ba",
   "metadata": {},
   "outputs": [],
   "source": [
    "dallemini_images = await meadowrun.run_function(\n",
    "    \"linux.dalle_wrapper.generate_images_api\",\n",
    "    meadowrun.AllocCloudInstance(\"EC2\"),\n",
    "    model_ec2_instance_requirements,\n",
    "    await model_deployment(),\n",
    "    [model_version, prompt, num_images, S3_BUCKET_NAME, S3_BUCKET_REGION]\n",
    ")\n",
    "saved.append(dallemini_images)"
   ]
  },
  {
   "cell_type": "code",
   "execution_count": null,
   "id": "c320d46e",
   "metadata": {},
   "outputs": [],
   "source": [
    "show_images(dallemini_images)"
   ]
  },
  {
   "cell_type": "markdown",
   "id": "808839b6",
   "metadata": {},
   "source": [
    "## Parameters for glid-3-xl"
   ]
  },
  {
   "cell_type": "code",
   "execution_count": null,
   "id": "cd744042",
   "metadata": {},
   "outputs": [],
   "source": [
    "chosen_image = dallemini_images[6]\n",
    "num_images = 8"
   ]
  },
  {
   "cell_type": "code",
   "execution_count": null,
   "id": "950edc48",
   "metadata": {},
   "outputs": [],
   "source": [
    "glid3xl_images = await meadowrun.run_function(\n",
    "    \"linux.glid3xl_wrapper.do_run\",\n",
    "    meadowrun.AllocCloudInstance(\"EC2\"),\n",
    "    model_ec2_instance_requirements,\n",
    "    await model_deployment(),\n",
    "    [Image.fromarray(chosen_image), S3_BUCKET_NAME, S3_BUCKET_REGION, prompt, num_images]\n",
    ")\n",
    "glid3xl_images = [i[0] for i in glid3xl_images]"
   ]
  },
  {
   "cell_type": "code",
   "execution_count": null,
   "id": "615fab15",
   "metadata": {},
   "outputs": [],
   "source": [
    "show_images(glid3xl_images)"
   ]
  },
  {
   "cell_type": "markdown",
   "id": "96bc46ab",
   "metadata": {},
   "source": [
    "## Parameters for SwinIR"
   ]
  },
  {
   "cell_type": "code",
   "execution_count": null,
   "id": "5b538665",
   "metadata": {},
   "outputs": [],
   "source": [
    "chosen_image = glid3xl_images[0]"
   ]
  },
  {
   "cell_type": "code",
   "execution_count": null,
   "id": "e05d7e19",
   "metadata": {},
   "outputs": [],
   "source": [
    "image = await meadowrun.run_function(\n",
    "    \"linux.swinir_wrapper.main\",\n",
    "    meadowrun.AllocCloudInstance(\"EC2\"),\n",
    "    model_ec2_instance_requirements,\n",
    "    await model_deployment(),\n",
    "    [np.asarray(chosen_image), S3_BUCKET_NAME, S3_BUCKET_REGION]\n",
    ")"
   ]
  },
  {
   "cell_type": "code",
   "execution_count": null,
   "id": "714f2021",
   "metadata": {},
   "outputs": [],
   "source": [
    "final_image = Image.fromarray(image)\n",
    "final_image"
   ]
  }
 ],
 "metadata": {
  "kernelspec": {
   "display_name": "Python 3 (ipykernel)",
   "language": "python",
   "name": "python3"
  },
  "language_info": {
   "codemirror_mode": {
    "name": "ipython",
    "version": 3
   },
   "file_extension": ".py",
   "mimetype": "text/x-python",
   "name": "python",
   "nbconvert_exporter": "python",
   "pygments_lexer": "ipython3",
   "version": "3.9.10"
  },
  "vscode": {
   "interpreter": {
    "hash": "69bb72ded643dbe3e495f06bd8188cc3367f044f0dc2ed8d4db28e0bbee664f9"
   }
  }
 },
 "nbformat": 4,
 "nbformat_minor": 5
}
